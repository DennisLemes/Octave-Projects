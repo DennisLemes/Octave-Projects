{
 "cells": [
  {
   "cell_type": "code",
   "execution_count": null,
   "id": "eb96fa39-a7bb-4a3a-90df-9506e5ad94e7",
   "metadata": {},
   "outputs": [],
   "source": [
    "x = 2;\n",
    "x"
   ]
  },
  {
   "cell_type": "code",
   "execution_count": null,
   "id": "3fa837f4-97c7-4c71-a6a2-361f577a4d18",
   "metadata": {},
   "outputs": [],
   "source": []
  }
 ],
 "metadata": {
  "kernelspec": {
   "display_name": "Octave [conda env:base] *",
   "language": "octave",
   "name": "conda-base-octave"
  },
  "language_info": {
   "name": ""
  }
 },
 "nbformat": 4,
 "nbformat_minor": 5
}
